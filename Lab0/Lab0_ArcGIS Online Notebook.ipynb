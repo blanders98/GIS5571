{
 "cells": [
  {
   "cell_type": "markdown",
   "metadata": {},
   "source": [
    "## Welcome to your notebook.\n"
   ]
  },
  {
   "cell_type": "markdown",
   "metadata": {},
   "source": [
    "#### Run this cell to connect to your GIS and get started:"
   ]
  },
  {
   "cell_type": "code",
   "execution_count": 2,
   "metadata": {},
   "outputs": [
    {
     "name": "stderr",
     "output_type": "stream",
     "text": [
      "/opt/conda/lib/python3.11/site-packages/arcgis/gis/__init__.py:731: UserWarning: You are logged on as lande174_UMN with an administrator role, proceed with caution.\n",
      "  warnings.warn(\n"
     ]
    },
    {
     "data": {
      "text/html": [
       "<div class=\"item_container\" style=\"height: auto; overflow: hidden; border: 1px solid #cfcfcf; border-radius: 2px; background: #f6fafa; line-height: 1.21429em; padding: 10px;\">\n",
       "                    <div class=\"item_left\" style=\"width: 210px; float: left;\">\n",
       "                       <a href='https://www.arcgis.com/home/item.html?id=0e1b6738f7bf41bc962fb45594ca8d3f' target='_blank'>\n",
       "                        <img src='data:image/png;base64,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' width='200' height='133' class=\"itemThumbnail\">\n",
       "                       </a>\n",
       "                    </div>\n",
       "\n",
       "                    <div class=\"item_right\"     style=\"float: none; width: auto; overflow: hidden;\">\n",
       "                        <a href='https://www.arcgis.com/home/item.html?id=0e1b6738f7bf41bc962fb45594ca8d3f' target='_blank'><b>shp_trans_roadcenterline</b>\n",
       "                        </a>\n",
       "                        <br/>A road centerline database for the purpose of geocoding and assigning addresses, vehicle routing, labeling and general cartographic display.<img src='https://www.arcgis.com/home/js/jsapi/esri/css/images/item_type_icons/featureshosted16.png' style=\"vertical-align:middle;\" width=16 height=16>Feature Layer Collection by lande174_UMN\n",
       "                        <br/>Last Modified: September 11, 2024\n",
       "                        <br/>0 comments, 4 views\n",
       "                    </div>\n",
       "                </div>\n",
       "                "
      ],
      "text/plain": [
       "<Item title:\"shp_trans_roadcenterline\" type:Feature Layer Collection owner:lande174_UMN>"
      ]
     },
     "execution_count": 2,
     "metadata": {},
     "output_type": "execute_result"
    }
   ],
   "source": [
    "from arcgis.gis import GIS\n",
    "gis = GIS(\"home\")\n",
    "roads_Wabasha = gis.content.get(\"0e1b6738f7bf41bc962fb45594ca8d3f\")\n",
    "roads_Wabasha"
   ]
  },
  {
   "cell_type": "code",
   "execution_count": 3,
   "metadata": {},
   "outputs": [
    {
     "data": {
      "application/vnd.jupyter.widget-view+json": {
       "model_id": "fed7390176f94a5b99087b32d499695e",
       "version_major": 2,
       "version_minor": 0
      },
      "text/plain": [
       "MapView(layout=Layout(height='400px', width='100%'))"
      ]
     },
     "metadata": {},
     "output_type": "display_data"
    },
    {
     "data": {
      "text/html": [
       "<div class=\"map-static-img-preview-dd794081-1ae9-497a-969b-a73b78af1dcb\"><img src=\"\"></img></div>"
      ],
      "text/plain": [
       "<IPython.core.display.HTML object>"
      ]
     },
     "metadata": {},
     "output_type": "display_data"
    },
    {
     "data": {
      "text/html": [
       "<div class=\"map-html-embed-preview-dd794081-1ae9-497a-969b-a73b78af1dcb\"></div>"
      ],
      "text/plain": [
       "<IPython.core.display.HTML object>"
      ]
     },
     "metadata": {},
     "output_type": "display_data"
    }
   ],
   "source": [
    "map1 = gis.map('Minnesota')\n",
    "map1.add_layer(roads_Wabasha)\n",
    "map1.zoom_to_layer(roads_Wabasha)\n",
    "map1"
   ]
  },
  {
   "cell_type": "code",
   "execution_count": 4,
   "metadata": {},
   "outputs": [
    {
     "name": "stderr",
     "output_type": "stream",
     "text": [
      "{\"cost\": 5.092}\n"
     ]
    },
    {
     "data": {
      "text/plain": [
       "<FeatureCollection>"
      ]
     },
     "execution_count": 4,
     "metadata": {},
     "output_type": "execute_result"
    }
   ],
   "source": [
    "from arcgis.features import use_proximity\n",
    "roads_buffer100 = use_proximity.create_buffers(roads_Wabasha, distances=[100], units='Feet')\n",
    "roads_buffer100"
   ]
  },
  {
   "cell_type": "code",
   "execution_count": 6,
   "metadata": {},
   "outputs": [
    {
     "name": "stderr",
     "output_type": "stream",
     "text": [
      "/opt/conda/lib/python3.11/site-packages/arcgis/gis/__init__.py:731: UserWarning: You are logged on as lande174_UMN with an administrator role, proceed with caution.\n",
      "  warnings.warn(\n"
     ]
    },
    {
     "data": {
      "application/vnd.jupyter.widget-view+json": {
       "model_id": "e2c670a71a8144f8a4e80e78d26b4451",
       "version_major": 2,
       "version_minor": 0
      },
      "text/plain": [
       "MapView(layout=Layout(height='400px', width='100%'))"
      ]
     },
     "metadata": {},
     "output_type": "display_data"
    },
    {
     "data": {
      "text/html": [
       "<div class=\"map-static-img-preview-1b2185a8-e572-4674-98f1-5892d9ca573d\"><img src=\"\"></img></div>"
      ],
      "text/plain": [
       "<IPython.core.display.HTML object>"
      ]
     },
     "metadata": {},
     "output_type": "display_data"
    },
    {
     "data": {
      "text/html": [
       "<div class=\"map-html-embed-preview-1b2185a8-e572-4674-98f1-5892d9ca573d\"></div>"
      ],
      "text/plain": [
       "<IPython.core.display.HTML object>"
      ]
     },
     "metadata": {},
     "output_type": "display_data"
    }
   ],
   "source": [
    "gis = GIS(\"home\")\n",
    "map2 = gis.map('Minnesota')\n",
    "map2.add_layer(roads_buffer100)\n",
    "map2"
   ]
  },
  {
   "cell_type": "code",
   "execution_count": null,
   "metadata": {},
   "outputs": [],
   "source": []
  }
 ],
 "metadata": {
  "esriNotebookRuntime": {
   "notebookRuntimeName": "ArcGIS Notebook Python 3 Standard",
   "notebookRuntimeVersion": "10.0"
  },
  "kernelspec": {
   "display_name": "Python 3 (ipykernel)",
   "language": "python",
   "name": "python3"
  },
  "language_info": {
   "codemirror_mode": {
    "name": "ipython",
    "version": 3
   },
   "file_extension": ".py",
   "mimetype": "text/x-python",
   "name": "python",
   "nbconvert_exporter": "python",
   "pygments_lexer": "ipython3",
   "version": "3.11.8"
  }
 },
 "nbformat": 4,
 "nbformat_minor": 2
}
