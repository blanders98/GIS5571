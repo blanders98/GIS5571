{
 "cells": [
  {
   "cell_type": "code",
   "execution_count": 14,
   "metadata": {},
   "outputs": [
    {
     "name": "stdout",
     "output_type": "stream",
     "text": [
      "Workspace set to: C:/Mac/Home/Desktop/Grad School/GIS 5571/Labs/Lab0/shp/fgdb_trans_roadcenterline/trans_roadcenterline.gdb\n"
     ]
    }
   ],
   "source": [
    "import arcpy\n",
    "folder_path = \"C:/Mac/Home/Desktop/Grad School/GIS 5571/Labs/Lab0/shp/fgdb_trans_roadcenterline/trans_roadcenterline.gdb\"\n",
    "arcpy.env.workspace = folder_path\n",
    "print(\"Workspace set to:\", arcpy.env.workspace)"
   ]
  },
  {
   "cell_type": "code",
   "execution_count": 16,
   "metadata": {},
   "outputs": [
    {
     "data": {
      "text/html": [
       "<div class='gpresult'><h2>Messages</h2><div id='messages'>Start Time: Tuesday, September 10, 2024 1:21:03 PM<br>Succeeded at Tuesday, September 10, 2024 1:21:13 PM (Elapsed Time: 9.88 seconds)<br></div><div id = 'default' /></div></div>"
      ],
      "text/plain": [
       "<Result 'C:/Mac/Home/Desktop/Grad School/GIS 5571/Labs/Lab0/shp/fgdb_trans_roadcenterline/100ft_buffer_output.shp'>"
      ]
     },
     "execution_count": 16,
     "metadata": {},
     "output_type": "execute_result"
    }
   ],
   "source": [
    "input_feature_class = \"RoadCenterline\"\n",
    "output_buffer = \"100ft_buffer_output.shp\"\n",
    "buffer_distance = \"100 feet\"\n",
    "arcpy.Buffer_analysis(input_feature_class,output_buffer,buffer_distance)"
   ]
  },
  {
   "cell_type": "code",
   "execution_count": 22,
   "metadata": {},
   "outputs": [],
   "source": [
    "import arcpy.mp as mp\n",
    "aprx = mp.ArcGISProject(\"CURRENT\")\n",
    "map_obj = aprx.listMaps(\"Jupyter in ArcPro\")[0]\n",
    "data_path = r\"C:/Mac/Home/Desktop/Grad School/GIS 5571/Labs/Lab0/shp/fgdb_trans_roadcenterline/trans_roadcenterline.gdb/RoadCenterline\"\n",
    "map_obj.addDataFromPath(data_path)\n",
    "aprx.save()"
   ]
  },
  {
   "cell_type": "code",
   "execution_count": null,
   "metadata": {},
   "outputs": [],
   "source": []
  }
 ],
 "metadata": {
  "kernelspec": {
   "display_name": "ArcGISPro",
   "language": "Python",
   "name": "python3"
  },
  "language_info": {
   "file_extension": ".py",
   "name": "python",
   "version": "3"
  }
 },
 "nbformat": 4,
 "nbformat_minor": 2
}
