{
 "cells": [
  {
   "cell_type": "code",
   "execution_count": 1,
   "id": "9b152d80-4989-45be-a14e-ccaf1ccd245e",
   "metadata": {},
   "outputs": [],
   "source": [
    "## Lab 2: Part 1a\n",
    "\n",
    "# !pip install requests\n",
    "import os\n",
    "import requests\n",
    "import zipfile\n",
    "import json"
   ]
  },
  {
   "cell_type": "code",
   "execution_count": 3,
   "id": "d04caaa2-8e9e-4864-8471-31505e959e8b",
   "metadata": {},
   "outputs": [
    {
     "name": "stdout",
     "output_type": "stream",
     "text": [
      "C:\\Users\\lande174\\Desktop\\GIS5571\\Lab2\\Data\n"
     ]
    }
   ],
   "source": [
    "# Step 1: Set working directory\n",
    "directory = r\"C:\\Users\\lande174\\Desktop\\GIS5571\\Lab2\\Data\"\n",
    "os.chdir(directory)\n",
    "print(os.getcwd())"
   ]
  },
  {
   "cell_type": "code",
   "execution_count": 4,
   "id": "4a4146cc-1168-48f4-8b4e-8fc861cb2009",
   "metadata": {},
   "outputs": [],
   "source": [
    "# Step 2: Download the .las data\n",
    "las_download = requests.get(\"https://resources.gisdata.mn.gov/pub/data/elevation/lidar/county/ramsey/laz/3542-29-25.laz\")\n",
    "with open (\"./ramsey_data.laz\",'wb') as file:\n",
    "    file.write(las_download.content)"
   ]
  },
  {
   "cell_type": "code",
   "execution_count": 5,
   "id": "156660b3-83aa-4ef9-8e51-985bba060270",
   "metadata": {},
   "outputs": [
    {
     "data": {
      "text/html": [
       "<div class='gpresult'><h2>Messages</h2><div id='messages'>Start Time: Tuesday, October 29, 2024 1:54:20 PM<br>Succeeded at Tuesday, October 29, 2024 1:54:25 PM (Elapsed Time: 4.73 seconds)<br></div><div id = 'default' /></div></div>"
      ],
      "text/plain": [
       "<Result '.\\\\Exports\\\\ramsey.lasd'>"
      ]
     },
     "execution_count": 5,
     "metadata": {},
     "output_type": "execute_result"
    }
   ],
   "source": [
    "# Step 3: Convert the .las file into a .lasd file\n",
    "arcpy.conversion.ConvertLas(\n",
    "    \"./ramsey_data.laz\",\n",
    "    \"./Exports\",\n",
    "    out_las_dataset=\"./Exports/ramsey.lasd\",\n",
    "    )"
   ]
  },
  {
   "cell_type": "code",
   "execution_count": 6,
   "id": "38038fd6-484a-4761-bfb9-0d12dbd0b5d3",
   "metadata": {},
   "outputs": [
    {
     "data": {
      "text/html": [
       "<div class='gpresult'><h2>Messages</h2><div id='messages'>Start Time: Tuesday, October 29, 2024 1:54:41 PM<br>Succeeded at Tuesday, October 29, 2024 1:54:42 PM (Elapsed Time: 0.59 seconds)<br></div><div id = 'default' /></div></div>"
      ],
      "text/plain": [
       "<Result '.\\\\Exports\\\\ramsey_DEM.tif'>"
      ]
     },
     "execution_count": 6,
     "metadata": {},
     "output_type": "execute_result"
    }
   ],
   "source": [
    "# Step 4: Convert the .lasd file to a DEM\n",
    "arcpy.conversion.LasDatasetToRaster(\n",
    "    \"./Exports/ramsey.lasd\",\n",
    "    \"./Exports/ramsey_DEM.tif\")"
   ]
  },
  {
   "cell_type": "code",
   "execution_count": 7,
   "id": "63f65a84-16ee-41e1-84c5-fcf6d359e3c6",
   "metadata": {},
   "outputs": [
    {
     "data": {
      "text/html": [
       "<div class='gpresult'><h2>Messages</h2><div id='messages'>Start Time: Tuesday, October 29, 2024 1:54:44 PM<br>Succeeded at Tuesday, October 29, 2024 1:54:44 PM (Elapsed Time: 0.33 seconds)<br></div><div id = 'default' /></div></div>"
      ],
      "text/plain": [
       "<Result '.\\\\Exports\\\\ramsey_TIN'>"
      ]
     },
     "execution_count": 7,
     "metadata": {},
     "output_type": "execute_result"
    }
   ],
   "source": [
    "# Step 5: Convert the .lasd file to a TIN\n",
    "arcpy.ddd.LasDatasetToTin(\n",
    "    \"./Exports/ramsey.lasd\",\n",
    "    \"./Exports/ramsey_TIN\",\n",
    "    \"WINDOW_SIZE\",\n",
    "    max_nodes=1.4e7)"
   ]
  },
  {
   "cell_type": "code",
   "execution_count": 8,
   "id": "5b9d334d-ae5a-4fd2-9bc3-f564157a359c",
   "metadata": {},
   "outputs": [
    {
     "data": {
      "text/plain": [
       "'./PDFs/TIN_export.pdf'"
      ]
     },
     "execution_count": 8,
     "metadata": {},
     "output_type": "execute_result"
    }
   ],
   "source": [
    "# Step 6: Export PDFs of DEM and TIN files\n",
    "aprx = arcpy.mp.ArcGISProject(\"CURRENT\")\n",
    "\n",
    "DEM_layout = aprx.listLayouts(\"DEM_layout\")[0]\n",
    "DEM_layout.exportToPDF(\"./PDFs/DEM_export.pdf\", resolution=300)\n",
    "\n",
    "TIN_layout = aprx.listLayouts(\"TIN_layout\")[0]\n",
    "TIN_layout.exportToPDF(\"./PDFs/TIN_export.pdf\", resolution=300)"
   ]
  },
  {
   "cell_type": "code",
   "execution_count": 9,
   "id": "2cf17e3f-071f-4fae-bb4c-ab0f38a4980e",
   "metadata": {},
   "outputs": [],
   "source": [
    "## Lab 2: Part 1b\n",
    "\n",
    "# Step 1: Download prism data\n",
    "prism_download = requests.get(\"https://ftp.prism.oregonstate.edu/normals/monthly/4km/ppt/PRISM_ppt_30yr_normal_4kmM4_all_bil.zip\")\n",
    "with open (\"./prism.zip\", 'wb') as file2:\n",
    "    file2.write(prism_download.content)\n",
    "\n",
    "with zipfile.ZipFile(\"./prism.zip\", 'r') as zip_file:\n",
    "    zip_file.extractall('prism')"
   ]
  },
  {
   "cell_type": "code",
   "execution_count": 10,
   "id": "8cec82e9-4bc2-47e3-8e30-b2ef2e87e486",
   "metadata": {},
   "outputs": [],
   "source": [
    "# Step 2: Convert prism data into spacetime cube\n",
    "prism_mosaic = arcpy.management.CreateMosaicDataset(\n",
    "    in_workspace = \"MyProject.gdb\",\n",
    "    in_mosaicdataset_name = \"prism_mosaic\",\n",
    "    coordinate_system = arcpy.SpatialReference(3857),\n",
    ")\n",
    "\n",
    "prism_raster = arcpy.management.AddRastersToMosaicDataset(\n",
    "    in_mosaic_dataset = prism_mosaic,\n",
    "    raster_type = 'Raster Dataset',\n",
    "    input_path = r\"C:\\Users\\lande174\\Desktop\\GIS5571\\Lab2\\Data\\prism\"\n",
    ")"
   ]
  },
  {
   "cell_type": "code",
   "execution_count": 11,
   "id": "5942e8b0-8bd8-46c5-8025-640b2cfb05cd",
   "metadata": {},
   "outputs": [
    {
     "data": {
      "text/html": [
       "<div class='gpresult'><h2>Messages</h2><div id='messages'>Start Time: Tuesday, October 29, 2024 1:56:39 PM<br>Adding Timestamp to AMD_prism_mosaic_CAT...<br>Succeeded at Tuesday, October 29, 2024 1:56:39 PM (Elapsed Time: 0.25 seconds)<br></div><div id = 'default' /></div></div>"
      ],
      "text/plain": [
       "<Result 'prism_mosaic\\\\Footprint'>"
      ]
     },
     "execution_count": 11,
     "metadata": {},
     "output_type": "execute_result"
    }
   ],
   "source": [
    "# Step 3: Calculate precipiation and time fields\n",
    "arcpy.management.CalculateField(\n",
    "    in_table = \"prism_mosaic/Footprint\",\n",
    "    field = \"Variable\",\n",
    "    expression = '\"Precip\"',\n",
    "    expression_type = \"PYTHON3\",\n",
    "    code_block = ' ',\n",
    "    field_type = 'TEXT',\n",
    ")\n",
    "\n",
    "arcpy.management.CalculateField(\n",
    "    in_table = \"prism_mosaic/Footprint\",\n",
    "    field = \"Timestamp\",\n",
    "    expression = 'DateAdd(Date(1991, 0, 1), $feature.OBJECTID-1, \"year\")',\n",
    "    expression_type = \"Arcade\",\n",
    "    code_block = ' ',\n",
    "    field_type = 'Date',\n",
    ")"
   ]
  },
  {
   "cell_type": "code",
   "execution_count": 12,
   "id": "83dbbdf8-856f-4f44-9202-b7aaa404e111",
   "metadata": {},
   "outputs": [
    {
     "data": {
      "text/html": [
       "<div class='gpresult'><h2>Messages</h2><div id='messages'>Start Time: Tuesday, October 29, 2024 1:56:42 PM<br>Succeeded at Tuesday, October 29, 2024 1:56:43 PM (Elapsed Time: 0.94 seconds)<br></div><div id = 'default' /></div></div>"
      ],
      "text/plain": [
       "<Result 'prism_mosaic'>"
      ]
     },
     "execution_count": 12,
     "metadata": {},
     "output_type": "execute_result"
    }
   ],
   "source": [
    "# Step 4: Set multidimensional info\n",
    "arcpy.management.BuildMultidimensionalInfo(\n",
    "    in_mosaic_dataset = \"prism_mosaic\",\n",
    "    variable_field = \"Variable\",\n",
    "    dimension_fields = \"Timestamp\",\n",
    ")"
   ]
  },
  {
   "cell_type": "code",
   "execution_count": 13,
   "id": "72d6933e-91c1-4a4c-8d53-06e6a0675199",
   "metadata": {},
   "outputs": [],
   "source": [
    "# Step 5: Create multidimensional raster\n",
    "multidim_prism = arcpy.md.MakeMultidimensionalRasterLayer(\n",
    "    in_multidimensional_raster = 'prism_mosaic',\n",
    "    out_multidimensional_raster_layer = 'multidim_prism',\n",
    "    variables = ['Precip'],\n",
    "    dimension_def = 'ALL'\n",
    ")"
   ]
  },
  {
   "cell_type": "code",
   "execution_count": 14,
   "id": "0d487479-2979-414a-a49b-a3a43f5f3f1d",
   "metadata": {},
   "outputs": [
    {
     "data": {
      "text/html": [
       "<div class='gpresult'><h2>Messages</h2><div id='messages' data-messages='[\"Start Time: Tuesday, October 29, 2024 1:57:00 PM\",\"WARNING 110301: The space-time cube cell size was adjusted to 4638.875.\",\"WARNING 110013: The default Time Step Interval is 1 year.\",\"WARNING 110067: Your spatial reference is not compatible with CF Conventions.  You may experience difficulties using the resulting space-time cube with other NetCDF tools and software.\",{\"element\":\"content\",\"data\":\"The space time cube has aggregated 1011590996 points into 1112760 fishnet grid locations over 13 time step intervals.  Each location is a 4638.88 meters by 4638.88 meters square.  The entire space time cube spans an area 6517620.01 meters west to east and 3673989.36 meters north to south.  Each of the time step intervals is 1 year in duration so the entire time period covered by the space time cube is 13 years.  Of the 1112760 total locations, 629919 (56.61%) contain at least one point for at least one time step interval.  These 629919 locations comprise 8188947 space time bins of which 14458094 (176.56%) have point counts greater than zero.  There is not a statistically significant increase or decrease in point counts over time.\"},[{\"element\":\"table\",\"data\":[[{\"data\":\"Input feature time extent\",\"prop\":{\"rowspan\":2}},\"1991-01-01 00:00:00\"],[{\"data\":\"to 2003-01-01 00:00:00\",\"prop\":{\"text-align\":\"right\"}}],[\"\",\"\"],[\"Number of time steps\",\"13\"],[\"Time step interval\",\"1 year\"],[\"Time step alignment\",\"End\"],[\"\",\"\"],[\"First time step temporal bias\",\"100.00%\"],[{\"data\":\"First time step interval\",\"prop\":{\"rowspan\":4}},\"after\"],[{\"data\":\"1990-01-01 00:00:00\",\"prop\":{\"text-align\":\"right\"}}],[{\"data\":\"to on or before\",\"prop\":{\"text-align\":\"right\"}}],[{\"data\":\"1991-01-01 00:00:00\",\"prop\":{\"text-align\":\"right\"}}],[\"\",\"\"],[\"Last time step temporal bias\",\"0.00%\"],[{\"data\":\"Last time step interval\",\"prop\":{\"rowspan\":4}},\"after\"],[{\"data\":\"2002-01-01 00:00:00\",\"prop\":{\"text-align\":\"right\"}}],[{\"data\":\"to on or before\",\"prop\":{\"text-align\":\"right\"}}],[{\"data\":\"2003-01-01 00:00:00\",\"prop\":{\"text-align\":\"right\"}}],[\"\",\"\"],[\"Coordinate System\",\"WGS 1984 Web Mercator Auxiliary Sphere\"],[\"Cube extent across space\",\"(coordinates in meters)\"],[\"Min X\",\"-13917257.2777\"],[\"Min Y\",\"2761026.2864\"],[\"Max X\",\"-7400426.8150\"],[\"Max Y\",\"6435460.7179\"],[\"Rows\",\"792\"],[\"Columns\",\"1405\"],[\"Total bins\",\"14465880\"]],\"elementProps\":{\"striped\":\"true\",\"noHeader\":true,\"title\":\"Space Time Cube Characteristics\",\"0\":{\"align\":\"left\",\"pad\":\"0px\",\"wrap\":true},\"1\":{\"align\":\"right\",\"pad\":\"0px\",\"wrap\":true}}}],[{\"element\":\"table\",\"data\":[[\"% of locations excluded due to unfilled bins\",\"482841 (  43.39%)\"],[\"- Total number\",\"482841\"],[\"Total number of locations\",\"629919\"],[\"- associated bins\",\"8188947\"],[\"% of included locations with estimated bins\",\"  2.76%\"],[\"- Total number\",\"17374\"],[\"% of all bins that were estimated\",\"  0.29%\"],[\"- Total number\",\"23874\"]],\"elementProps\":{\"striped\":\"true\",\"title\":\"Summary Field - PRECIP_NONE_ZEROS\",\"0\":{\"align\":\"left\",\"pad\":\"0px\",\"wrap\":true},\"1\":{\"align\":\"right\",\"pad\":\"0px\",\"wrap\":true}}}],[{\"element\":\"table\",\"data\":[[\"Trend direction\",\"Not Significant\"],[\"Trend statistic\",\"0.9151\"],[\"Trend p-value\",\"0.3601\"]],\"elementProps\":{\"striped\":\"true\",\"noHeader\":true,\"title\":\"Overall Data Trend - PRECIP_NONE_ZEROS\",\"0\":{\"align\":\"left\",\"pad\":\"0px\",\"wrap\":true},\"1\":{\"align\":\"right\",\"pad\":\"0px\",\"wrap\":true}}}],\"Succeeded at Tuesday, October 29, 2024 1:57:04 PM (Elapsed Time: 4.33 seconds)\"]' data-show='true'><div id = 'default' /></div></div>"
      ],
      "text/plain": [
       "<Result 'C:\\\\Users\\\\lande174\\\\Desktop\\\\GIS5571\\\\Lab2\\\\Data\\\\Exports\\\\spacetime_cube_multidim_raster.nc'>"
      ]
     },
     "execution_count": 14,
     "metadata": {},
     "output_type": "execute_result"
    }
   ],
   "source": [
    "# Step 6: Creat spacetime cube\n",
    "arcpy.stpm.CreateSpaceTimeCubeMDRasterLayer(\n",
    "    in_md_raster = multidim_prism,\n",
    "    output_cube = r\"C:\\Users\\lande174\\Desktop\\GIS5571\\Lab2\\Data\\Exports\\spacetime_cube_multidim_raster.nc\",\n",
    ")"
   ]
  },
  {
   "cell_type": "code",
   "execution_count": null,
   "id": "887a6c88",
   "metadata": {},
   "outputs": [],
   "source": []
  }
 ],
 "metadata": {
  "kernelspec": {
   "display_name": "ArcGISPro",
   "language": "Python",
   "name": "python3"
  },
  "language_info": {
   "file_extension": ".py",
   "name": "python",
   "version": "3"
  }
 },
 "nbformat": 4,
 "nbformat_minor": 5
}
