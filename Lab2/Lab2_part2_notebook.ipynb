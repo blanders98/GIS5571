{
 "cells": [
  {
   "cell_type": "code",
   "execution_count": 15,
   "id": "e0bcf8ca-3d60-43b7-bdfe-2a7511be366c",
   "metadata": {},
   "outputs": [],
   "source": [
    "## Lab 2: Part 2\n",
    "\n",
    "# !pip install requests\n",
    "import os\n",
    "import requests\n",
    "import zipfile\n",
    "import json"
   ]
  },
  {
   "cell_type": "code",
   "execution_count": 16,
   "id": "dd7b79a7-6cf4-4526-a1f4-c28147d57721",
   "metadata": {},
   "outputs": [
    {
     "name": "stdout",
     "output_type": "stream",
     "text": [
      "C:\\Users\\lande174\\Desktop\\GIS5571\\Lab2\\Data\n"
     ]
    }
   ],
   "source": [
    "# Step 1: Set working directory\n",
    "directory = r\"C:\\Users\\lande174\\Desktop\\GIS5571\\Lab2\\Data\"\n",
    "os.chdir(directory)\n",
    "print(os.getcwd())"
   ]
  },
  {
   "cell_type": "code",
   "execution_count": 17,
   "id": "7a81b3e7-0348-42bd-9711-e65a8c7387dc",
   "metadata": {},
   "outputs": [],
   "source": [
    "# Step 2: Download landcover data\n",
    "landcover_download = requests.get(\"https://resources.gisdata.mn.gov/pub/gdrs/data/pub/us_mn_state_dnr/biota_landcover_nlcd_mn_2019/tif_biota_landcover_nlcd_mn_2019.zip\")\n",
    "with open(\"./landcover.zip\", 'wb') as file1:\n",
    "    file1.write(landcover_download.content)\n",
    "    \n",
    "with zipfile.ZipFile(\"./landcover.zip\", 'r') as landcover_zip:\n",
    "        landcover_zip.extractall('landcover')"
   ]
  },
  {
   "cell_type": "code",
   "execution_count": 18,
   "id": "a56007fd-0d64-4d9c-b49c-ab5588e11b6d",
   "metadata": {},
   "outputs": [],
   "source": [
    "# Step 3: Download elevation data\n",
    "elevation_download = requests.get(\"https://resources.gisdata.mn.gov/pub/gdrs/data/pub/us_mn_state_dnr/elev_30m_digital_elevation_model/fgdb_elev_30m_digital_elevation_model.zip\")\n",
    "with open(\"./elevation.zip\", 'wb') as file2:\n",
    "    file2.write(elevation_download.content)\n",
    "\n",
    "with zipfile.ZipFile(\"./elevation.zip\", 'r') as file2:\n",
    "    file2.extractall('elevation')"
   ]
  },
  {
   "cell_type": "code",
   "execution_count": 22,
   "id": "62a9e7e5-b7d5-4827-b264-b6b1aa977a42",
   "metadata": {},
   "outputs": [],
   "source": [
    "# Step 4: Set up two points for start and end points. Buffer and clip datasets to create field area. \n",
    "start_and_end_points = [ \n",
    "    [-92.148796, 44.127985],\n",
    "    [-92.044783, 44.054387],\n",
    "]\n",
    "\n",
    "arcpy.CreateFeatureclass_management(\n",
    "    out_path = \"C:/Users/lande174/Desktop/GIS5571/Lab2/MyProject/MyProject.gdb\",\n",
    "    out_name = \"start_and_end_points\",\n",
    "    geometry_type = 'Point',\n",
    "    spatial_reference = arcpy.SpatialReference(4326)\n",
    ")\n",
    "\n",
    "points_path = \"C:/Users/lande174/Desktop/GIS5571/Lab2/MyProject/MyProject.gdb/start_and_end_points\"\n",
    "\n",
    "with arcpy.da.InsertCursor(points_path, ['SHAPE@']) as cursor:\n",
    "    for longitude, latitude in start_and_end_points:\n",
    "        point = arcpy.Point(longitude, latitude)\n",
    "        point_geometry = arcpy.PointGeometry(point, arcpy.SpatialReference(4326))\n",
    "        cursor.insertRow([point_geometry])\n",
    "        \n",
    "points_buffer = []\n",
    "for i, point in enumerate(start_and_end_points):\n",
    "    buffer_format = r\"C:\\Users\\lande174\\Desktop\\GIS5571\\Lab2\\MyProject\\MyProject.gdb\\BufferFeature\".format(i + 1)\n",
    "    points_buffer.append(buffer_format)\n",
    "    arcpy.Buffer_analysis(points_path, buffer_format, '10000 Meters')"
   ]
  },
  {
   "cell_type": "code",
   "execution_count": 23,
   "id": "886fb7dc",
   "metadata": {},
   "outputs": [],
   "source": [
    "# Step 5: Calculate slope\n",
    "arcpy.env.overwriteOutput = True\n",
    "\n",
    "dem = arcpy.sa.Slope(\"C:/Users/lande174/Desktop/GIS5571/Lab2/Data/elevation/elev_30m_digital_elevation_model.gdb/digital_elevation_model_30m\", \"DEGREE\", 1, \"PLANAR\", \"METER\")\n",
    "dem.save(\"C:/Users/lande174/Desktop/GIS5571/Lab2/Data/Exports/slope_v2\")"
   ]
  },
  {
   "cell_type": "code",
   "execution_count": 25,
   "id": "32a0c4ea",
   "metadata": {},
   "outputs": [],
   "source": [
    "# Step 6: Clip layer, reclassify data\n",
    "slope_raster = \"C:/Users/lande174/Desktop/GIS5571/Lab2/Data/Exports/slope_v2\"\n",
    "clipped_slope_raster = \"C:/Users/lande174/Desktop/GIS5571/Lab2/MyProject/MyProject.gdb/clipped_slope_raster\"\n",
    "\n",
    "arcpy.management.Clip(slope_raster, '#', clipped_slope_raster, buffer_format,'#', \"ClippingGeometry\", \"NO_MAINTAIN_EXTENT\")\n",
    "slope_reclass = arcpy.sa.Reclassify(\"clipped_slope_raster\", \"Value\", \"0 10 1;10 20 2;20 30 3;30 40 4;40 50 5;50 60 6;60 70 7;70 80 8;80 90 9;90 100 10\")"
   ]
  },
  {
   "cell_type": "code",
   "execution_count": 26,
   "id": "90ea75a1",
   "metadata": {},
   "outputs": [],
   "source": [
    "# Step 7: Reclassifying data again\n",
    "'11 10' # Open water\n",
    "'21 0' # Developed, open space\n",
    "'22 0' # Minimally developed\n",
    "'23 0' # Moderately developed\n",
    "'24 0' # Highy developed\n",
    "'31 0' # Barren land\n",
    "'41 1' # Decidious forest\n",
    "'42 1' # Evergreen forest\n",
    "'43 1' # Mixed Forest\n",
    "'52 4' # Shrub/Scrub\n",
    "'71 7' # Herbaceous\n",
    "'81 7' # Hay/Pasture\n",
    "'82 10'# Cultivated Crops\n",
    "'90 2' # Woody Wetlands\n",
    "'95 2' # Emergent Herbaceous Wetlands\n",
    "\n",
    "landcover_path = r\"C:\\Users\\lande174\\Desktop\\GIS5571\\Lab2\\Data\\landcover\\NLCD_2019_Land_Cover.tif\" \n",
    "landcover_output = r\"C:\\Users\\lande174\\Desktop\\GIS5571\\Lab2\\Data\\Exports\\clip_landcov\"\n",
    "\n",
    "arcpy.management.Clip(landcover_path, \"#\", landcover_output, points_buffer[0], \"#\", \"ClippingGeometry\", \"NO_MAINTAIN_EXTENT\")\n",
    "\n",
    "landcover_reclass = arcpy.sa.Reclassify(\"clip_landcov\", \"Value\", \"11 10; 21 0; 22 0; 23 0; 24 0; 31 0; 41 1; 42 1; 43 1; 52 4; 71 7; 81 7; 82 10; 90 2; 95 2\", \"DATA\")"
   ]
  },
  {
   "cell_type": "code",
   "execution_count": 28,
   "id": "8849bc10",
   "metadata": {},
   "outputs": [],
   "source": [
    "# Generating 4 different cost surfaces\n",
    "for loop_index, w in enumerate([0.1, 0.25, 0.5, 0.75]):\n",
    "    landcover_weight = w\n",
    "    slope_weight = 1-w\n",
    "    cost_surface = arcpy.ia.RasterCalculator([landcover_reclass, slope_reclass], \n",
    "                                          ['landcover_reclass', 'slope_reclass'],\n",
    "                                          expression=f\"({landcover_weight} * landcover_reclass) + ({slope_weight} * slope_reclass)\")\n",
    "    output_path = f\"C:/Users/lande174/Desktop/GIS5571/Lab2/Data/Exports/cost_surface_{loop_index}.tif\"\n",
    "    cost_surface.save(output_path)"
   ]
  },
  {
   "cell_type": "code",
   "execution_count": null,
   "id": "6d5e0a4b",
   "metadata": {},
   "outputs": [],
   "source": []
  }
 ],
 "metadata": {
  "kernelspec": {
   "display_name": "ArcGISPro",
   "language": "Python",
   "name": "python3"
  },
  "language_info": {
   "file_extension": ".py",
   "name": "python",
   "version": "3"
  }
 },
 "nbformat": 4,
 "nbformat_minor": 5
}
