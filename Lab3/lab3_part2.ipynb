{
 "cells": [
  {
   "cell_type": "code",
   "execution_count": 29,
   "metadata": {},
   "outputs": [
    {
     "name": "stdout",
     "output_type": "stream",
     "text": [
      "C:\\Users\\benla\\Desktop\\Grad_School\\Classes\\GIS5571_SpatialDataScience\\Labs\\Lab3\\Data\n"
     ]
    }
   ],
   "source": [
    "import os\n",
    "import requests\n",
    "import pandas as pd\n",
    "\n",
    "directory = r\"C:\\Users\\benla\\Desktop\\Grad_School\\Classes\\GIS5571_SpatialDataScience\\Labs\\Lab3\\Data\"\n",
    "os.chdir(directory)\n",
    "\n",
    "print(os.getcwd())"
   ]
  },
  {
   "cell_type": "code",
   "execution_count": 30,
   "metadata": {
    "scrolled": true
   },
   "outputs": [
    {
     "name": "stdout",
     "output_type": "stream",
     "text": [
      "     Station Name  Latitude  Longitude  Elevation  Year  Month  Day  Avg Temp  \\\n",
      "0             Ada  47.32119  -96.51406        910  2024     10   27    46.162   \n",
      "1             Ada  47.32119  -96.51406        910  2024     10   28    54.805   \n",
      "2             Ada  47.32119  -96.51406        910  2024     10   29    51.004   \n",
      "3             Ada  47.32119  -96.51406        910  2024     10   30    37.497   \n",
      "4             Ada  47.32119  -96.51406        910  2024     10   31    32.550   \n",
      "...           ...       ...        ...        ...   ...    ...  ...       ...   \n",
      "6529      Zeeland  46.01351  -99.68768       2070  2024     11   21    15.338   \n",
      "6530      Zeeland  46.01351  -99.68768       2070  2024     11   22    22.719   \n",
      "6531      Zeeland  46.01351  -99.68768       2070  2024     11   23    24.432   \n",
      "6532      Zeeland  46.01351  -99.68768       2070  2024     11   24    19.212   \n",
      "6533      Zeeland  46.01351  -99.68768       2070  2024     11   25    11.397   \n",
      "\n",
      "     Avg Temp Flag        Date  \n",
      "0              NaN  10/27/2024  \n",
      "1              NaN  10/28/2024  \n",
      "2              NaN  10/29/2024  \n",
      "3              NaN  10/30/2024  \n",
      "4              NaN  10/31/2024  \n",
      "...            ...         ...  \n",
      "6529           NaN  11/21/2024  \n",
      "6530           NaN  11/22/2024  \n",
      "6531           NaN  11/23/2024  \n",
      "6532           NaN  11/24/2024  \n",
      "6533           NaN  11/25/2024  \n",
      "\n",
      "[6534 rows x 10 columns]\n"
     ]
    }
   ],
   "source": [
    "## Step 1: Download NDAWN temperature data from all stations for last 30 days\n",
    "\n",
    "# URL for NDAWN \n",
    "NDAWN_url = \"https://ndawn.ndsu.nodak.edu/table.csv?station=78&station=111&station=98&station=162&station=174&station=142&station=164&station=138&station=161&station=9&station=160&station=224&station=159&station=10&station=229&station=118&station=56&station=165&station=11&station=12&station=58&station=13&station=84&station=218&station=55&station=179&station=7&station=186&station=87&station=14&station=15&station=96&station=191&station=16&station=210&station=201&station=137&station=124&station=143&station=17&station=85&station=226&station=140&station=134&station=18&station=136&station=219&station=65&station=104&station=99&station=192&station=19&station=227&station=129&station=20&station=101&station=166&station=178&station=81&station=21&station=97&station=22&station=75&station=184&station=2&station=211&station=172&station=139&station=158&station=23&station=157&station=220&station=62&station=86&station=24&station=89&station=126&station=223&station=167&station=93&station=183&station=90&station=25&station=205&station=83&station=107&station=156&station=77&station=26&station=155&station=70&station=127&station=144&station=27&station=173&station=132&station=28&station=195&station=185&station=29&station=30&station=154&station=31&station=187&station=102&station=32&station=119&station=4&station=217&station=80&station=33&station=59&station=153&station=105&station=82&station=225&station=34&station=198&station=72&station=135&station=35&station=76&station=120&station=209&station=141&station=109&station=36&station=207&station=79&station=193&station=71&station=212&station=37&station=38&station=189&station=39&station=130&station=73&station=188&station=40&station=41&station=54&station=228&station=69&station=194&station=145&station=214&station=113&station=128&station=42&station=43&station=103&station=171&station=116&station=196&station=88&station=114&station=3&station=163&station=200&station=216&station=64&station=115&station=168&station=67&station=175&station=146&station=170&station=197&station=44&station=206&station=133&station=106&station=100&station=121&station=45&station=46&station=61&station=66&station=181&station=74&station=213&station=60&station=199&station=125&station=176&station=177&station=8&station=180&station=204&station=47&station=221&station=122&station=108&station=5&station=152&station=48&station=151&station=147&station=68&station=169&station=49&station=50&station=91&station=182&station=117&station=63&station=150&station=51&station=6&station=222&station=52&station=92&station=112&station=131&station=123&station=95&station=53&station=203&station=190&station=208&station=57&station=149&station=148&station=202&station=215&station=110&variable=ddavt&year=2024&ttype=daily&quick_pick=30_d&begin_date=2024-10-27&end_date=2024-11-25\"\n",
    "\n",
    "# API Request with Pandas\n",
    "NDAWN_pd = pd.read_csv(NDAWN_url, skiprows=[0, 1, 2, 4])\n",
    "\n",
    "# Combine Year, Month, and Day into a single Date column in MM/DD/YYYY format\n",
    "NDAWN_pd['Date'] = NDAWN_pd.apply(lambda row: f\"{int(row['Month']):02}/{int(row['Day']):02}/{int(row['Year'])}\", axis=1)\n",
    "\n",
    "print(NDAWN_pd)"
   ]
  },
  {
   "cell_type": "code",
   "execution_count": 31,
   "metadata": {},
   "outputs": [
    {
     "name": "stdout",
     "output_type": "stream",
     "text": [
      "Station points added successfully to the feature class\n"
     ]
    }
   ],
   "source": [
    "## Step 2: Create a new feature class for the station points\n",
    "gdb_path = r\"C:\\Users\\benla\\Desktop\\Grad_School\\Classes\\GIS5571_SpatialDataScience\\Labs\\Lab3\\Lab3_aprx\\Lab3_aprx.gdb\"\n",
    "station_points = os.path.join(gdb_path, \"StationPoints\")\n",
    "\n",
    "arcpy.management.CreateFeatureclass(gdb_path, \"StationPoints\", \"POINT\", spatial_reference=arcpy.SpatialReference(4326))\n",
    "\n",
    "## Step 4: Add fields to the feature class\n",
    "arcpy.management.AddField(station_points, \"Station_Name\", \"TEXT\")\n",
    "arcpy.management.AddField(station_points, \"Avg_Temp\", \"DOUBLE\")\n",
    "arcpy.management.AddField(station_points, \"Date\", \"TEXT\")\n",
    "\n",
    "## Step 5: Populate the feature class with station points and average temperatures\n",
    "with arcpy.da.InsertCursor(station_points, ['SHAPE@XY', 'Station_Name', 'Avg_Temp', 'Date']) as cursor:\n",
    "    for index, row in NDAWN_pd.iterrows():\n",
    "        point = (row['Longitude'], row['Latitude'])\n",
    "        cursor.insertRow([point, row['Station Name'], row['Avg Temp'], row['Date']])\n",
    "\n",
    "print(\"Station points added successfully to the feature class\")"
   ]
  },
  {
   "cell_type": "code",
   "execution_count": 32,
   "metadata": {},
   "outputs": [
    {
     "name": "stdout",
     "output_type": "stream",
     "text": [
      "New feature class created with aggregated data including high and low temperatures.\n"
     ]
    }
   ],
   "source": [
    "# Step 3: Create a new feature class with a single point for each station, aggregating the data by Station Name and calculating mean, high, and low temperatures\n",
    "aggregated_data = NDAWN_pd.groupby('Station Name').agg({\n",
    "    'Avg Temp': ['mean', 'max', 'min'],     # Mean, max, and min of the temperature column\n",
    "    'Latitude': 'first',                    # Latitude of the station\n",
    "    'Longitude': 'first'                    # Longitude of the station\n",
    "}).reset_index()\n",
    "\n",
    "# Flatten the multi-level column headers from the aggregation\n",
    "aggregated_data.columns = ['Station Name', 'Avg_Temp', 'High_Avg_Temp', 'Low_Avg_Temp', 'Latitude', 'Longitude']\n",
    "\n",
    "# Step 2: Define the path for the new feature class\n",
    "aggregated_fc_path = os.path.join(gdb_path, \"AggStationPoints\")\n",
    "\n",
    "# Step 3: Create the new feature class\n",
    "arcpy.management.CreateFeatureclass(gdb_path, \"AggStationPoints\", \"POINT\", spatial_reference=arcpy.SpatialReference(4326))\n",
    "\n",
    "# Step 4: Add fields to the new feature class\n",
    "arcpy.management.AddField(aggregated_fc_path, \"Station_Name\", \"TEXT\")\n",
    "arcpy.management.AddField(aggregated_fc_path, \"Avg_Temp\", \"DOUBLE\")\n",
    "arcpy.management.AddField(aggregated_fc_path, \"High_Avg_Temp\", \"DOUBLE\")\n",
    "arcpy.management.AddField(aggregated_fc_path, \"Low_Avg_Temp\", \"DOUBLE\")\n",
    "\n",
    "# Step 5: Populate the new feature class with the aggregated data\n",
    "with arcpy.da.InsertCursor(aggregated_fc_path, ['SHAPE@XY', 'Station_Name', 'Avg_Temp', 'High_Avg_Temp', 'Low_Avg_Temp']) as cursor:\n",
    "    for index, row in aggregated_data.iterrows():\n",
    "        point = (row['Longitude'], row['Latitude'])\n",
    "        cursor.insertRow([point, row['Station Name'], row['Avg_Temp'], row['High_Avg_Temp'], row['Low_Avg_Temp']])\n",
    "\n",
    "print(\"New feature class created with aggregated data including high and low temperatures.\")"
   ]
  },
  {
   "cell_type": "code",
   "execution_count": 33,
   "metadata": {},
   "outputs": [
    {
     "name": "stdout",
     "output_type": "stream",
     "text": [
      "High Temp IDW interpolation added to the map\n"
     ]
    }
   ],
   "source": [
    "## Step 4: Interpolate data - One Prediction per Location (IDW) - High Temps\n",
    "\n",
    "# Set the input feature class and output raster path for High Temp IDW interpolation\n",
    "input_fc = os.path.join(gdb_path, \"AggStationPoints\")\n",
    "idw_output_raster_high_temp = os.path.join(gdb_path, \"IDW_High_Temp\")\n",
    "\n",
    "# Perform IDW interpolation\n",
    "idw_high_temp_result = arcpy.sa.Idw(input_fc, \"High_Avg_Temp\", cell_size=0.01)\n",
    "idw_high_temp_result.save(idw_output_raster_high_temp)\n",
    "\n",
    "print(\"High Temp IDW interpolation added to the map\")"
   ]
  },
  {
   "cell_type": "code",
   "execution_count": 34,
   "metadata": {},
   "outputs": [
    {
     "name": "stdout",
     "output_type": "stream",
     "text": [
      "Low Temp IDW interpolation added to the map\n"
     ]
    }
   ],
   "source": [
    "## Step 5: Interpolate data - One Prediction per Location (IDW) - Low Temps\n",
    "\n",
    "# Set the input feature class and output raster path for Low Temp IDW interpolation\n",
    "idw_output_raster_low_temp = os.path.join(gdb_path, \"IDW_Low_Temp\")\n",
    "\n",
    "# Perform IDW interpolation\n",
    "idw_low_temp_result = arcpy.sa.Idw(input_fc, \"Low_Avg_Temp\", cell_size=0.01)\n",
    "idw_low_temp_result.save(idw_output_raster_low_temp)\n",
    "\n",
    "print(\"Low Temp IDW interpolation added to the map\")"
   ]
  },
  {
   "cell_type": "code",
   "execution_count": 35,
   "metadata": {},
   "outputs": [
    {
     "name": "stdout",
     "output_type": "stream",
     "text": [
      "High Temp Kriging added to the map with default parameters.\n"
     ]
    }
   ],
   "source": [
    "## Step 6: Interpolate data - Quantile Value (Kriging) - High Temps\n",
    "\n",
    "# Set the output raster path for High Temp Kriging interpolation\n",
    "kriging_output_raster_high_temp = os.path.join(gdb_path, \"Kriging_High_Temp\")\n",
    "\n",
    "# Perfrom the Kriging interpolation\n",
    "kriging_high_temp_result = arcpy.sa.Kriging(\n",
    "    input_fc,\n",
    "    \"High_Avg_Temp\",\n",
    "    \"Spherical\", \n",
    "    0.01, \n",
    ")\n",
    "    \n",
    "kriging_high_temp_result.save(kriging_output_raster_high_temp)\n",
    "\n",
    "print(\"High Temp Kriging added to the map with default parameters.\")"
   ]
  },
  {
   "cell_type": "code",
   "execution_count": 36,
   "metadata": {},
   "outputs": [
    {
     "name": "stdout",
     "output_type": "stream",
     "text": [
      "Low Temp Kriging added to the map with default parameters.\n"
     ]
    }
   ],
   "source": [
    "## Step 7: Interpolate data - Quantile Value (Kriging) - Low Temps\n",
    "\n",
    "# Set the output raster path for Low Temp Kriging interpolation\n",
    "kriging_output_raster_low_temp = os.path.join(gdb_path, \"Kriging_Low_Temp\")\n",
    "\n",
    "# Perfrom the Kriging interpolation\n",
    "kriging_low_temp_result = arcpy.sa.Kriging(\n",
    "    input_fc,\n",
    "    \"Low_Avg_Temp\",\n",
    "    \"Spherical\", \n",
    "    0.01,  \n",
    ")\n",
    "    \n",
    "kriging_low_temp_result.save(kriging_output_raster_low_temp)\n",
    "\n",
    "print(\"Low Temp Kriging added to the map with default parameters.\")"
   ]
  },
  {
   "cell_type": "code",
   "execution_count": 37,
   "metadata": {},
   "outputs": [
    {
     "name": "stdout",
     "output_type": "stream",
     "text": [
      "High Temp Natural Neighbor interpolation added to the map as a substitute for simulation\n"
     ]
    }
   ],
   "source": [
    "## Step 8: Interpolate data - Many Predicitions per Location (Simulation) - High Temps\n",
    "\n",
    "# Set the output path for High Temp Natural Neighbor interpolation\n",
    "nat_neigh_output_raster_high_temp = os.path.join(gdb_path, \"NaturalNeighbor_High_Temp\")\n",
    "\n",
    "# Perform Natural Neighbor interpolation\n",
    "nat_neigh_high_temp_result = arcpy.sa.NaturalNeighbor(input_fc, \"High_Avg_Temp\", cell_size=0.01)\n",
    "nat_neigh_high_temp_result.save(nat_neigh_output_raster_high_temp)\n",
    "\n",
    "print(\"High Temp Natural Neighbor interpolation added to the map as a substitute for simulation\")"
   ]
  },
  {
   "cell_type": "code",
   "execution_count": 38,
   "metadata": {},
   "outputs": [
    {
     "name": "stdout",
     "output_type": "stream",
     "text": [
      "Low Temp Natural Neighbor interpolation added to the map as a substitute for simulation\n"
     ]
    }
   ],
   "source": [
    "## Step 9: Interpolate data - Many Predicitions per Location (Simulation) - Low Temps\n",
    "\n",
    "# Set the output path for Low Temp Natural Neighbor interpolation\n",
    "nat_neigh_output_raster_low_temp = os.path.join(gdb_path, \"NaturalNeighbor_Low_Temp\")\n",
    "\n",
    "# Perform Natural Neighbor interpolation\n",
    "nat_neigh_low_temp_result = arcpy.sa.NaturalNeighbor(input_fc, \"Low_Avg_Temp\", cell_size=0.01)\n",
    "nat_neigh_low_temp_result.save(nat_neigh_output_raster_low_temp)\n",
    "\n",
    "print(\"Low Temp Natural Neighbor interpolation added to the map as a substitute for simulation\")"
   ]
  },
  {
   "cell_type": "code",
   "execution_count": null,
   "metadata": {},
   "outputs": [],
   "source": []
  }
 ],
 "metadata": {
  "kernelspec": {
   "display_name": "ArcGISPro",
   "language": "python",
   "name": "python3"
  },
  "language_info": {
   "file_extension": ".py",
   "mimetype": "text/x-python",
   "name": "python",
   "version": "3.11.10"
  }
 },
 "nbformat": 4,
 "nbformat_minor": 4
}
